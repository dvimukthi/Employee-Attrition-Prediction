{
 "cells": [
  {
   "cell_type": "code",
   "execution_count": 1,
   "id": "48181355",
   "metadata": {},
   "outputs": [],
   "source": [
    "import numpy as np # linear algebra\n",
    "import pandas as pd # data processing, CSV file I/O (e.g. pd.read_csv)\n",
    "\n",
    "import matplotlib.pyplot as plt\n",
    "import seaborn as sns\n",
    "from sklearn.model_selection import train_test_split\n",
    "from sklearn.compose import ColumnTransformer\n",
    "from sklearn.pipeline import Pipeline\n",
    "from sklearn.impute import SimpleImputer\n",
    "from sklearn.preprocessing import OneHotEncoder\n",
    "from sklearn.ensemble import RandomForestClassifier\n",
    "from sklearn.preprocessing import StandardScaler\n",
    "from sklearn.metrics import roc_auc_score\n",
    "from sklearn import preprocessing\n",
    "from sklearn import ensemble\n",
    "from sklearn import metrics\n",
    "from sklearn import model_selection"
   ]
  },
  {
   "cell_type": "code",
   "execution_count": 3,
   "id": "8df959c4",
   "metadata": {},
   "outputs": [],
   "source": [
    "df = pd.read_csv('F:/train.csv')\n",
    "df_test = pd.read_csv('F:/test.csv')\n",
    "submission = pd.read_csv('F:/sample_submission.csv')"
   ]
  },
  {
   "cell_type": "code",
   "execution_count": 6,
   "id": "e253284d",
   "metadata": {},
   "outputs": [],
   "source": [
    "useful_features = [c for c in df.columns if c not in ['id', 'Attrition']]"
   ]
  },
  {
   "cell_type": "code",
   "execution_count": 7,
   "id": "6bb963ad",
   "metadata": {},
   "outputs": [],
   "source": [
    "categorical_cols = [cname for cname in df.columns if df[cname].nunique() < 10 and \n",
    "                        df[cname].dtype == 'object']\n",
    "df_test = df_test[useful_features]"
   ]
  },
  {
   "cell_type": "code",
   "execution_count": 8,
   "id": "d3fbfcfb",
   "metadata": {},
   "outputs": [
    {
     "data": {
      "text/html": [
       "<div>\n",
       "<style scoped>\n",
       "    .dataframe tbody tr th:only-of-type {\n",
       "        vertical-align: middle;\n",
       "    }\n",
       "\n",
       "    .dataframe tbody tr th {\n",
       "        vertical-align: top;\n",
       "    }\n",
       "\n",
       "    .dataframe thead th {\n",
       "        text-align: right;\n",
       "    }\n",
       "</style>\n",
       "<table border=\"1\" class=\"dataframe\">\n",
       "  <thead>\n",
       "    <tr style=\"text-align: right;\">\n",
       "      <th></th>\n",
       "      <th>id</th>\n",
       "      <th>Age</th>\n",
       "      <th>BusinessTravel</th>\n",
       "      <th>DailyRate</th>\n",
       "      <th>Department</th>\n",
       "      <th>DistanceFromHome</th>\n",
       "      <th>Education</th>\n",
       "      <th>EducationField</th>\n",
       "      <th>EmployeeCount</th>\n",
       "      <th>EnvironmentSatisfaction</th>\n",
       "      <th>...</th>\n",
       "      <th>StandardHours</th>\n",
       "      <th>StockOptionLevel</th>\n",
       "      <th>TotalWorkingYears</th>\n",
       "      <th>TrainingTimesLastYear</th>\n",
       "      <th>WorkLifeBalance</th>\n",
       "      <th>YearsAtCompany</th>\n",
       "      <th>YearsInCurrentRole</th>\n",
       "      <th>YearsSinceLastPromotion</th>\n",
       "      <th>YearsWithCurrManager</th>\n",
       "      <th>Attrition</th>\n",
       "    </tr>\n",
       "  </thead>\n",
       "  <tbody>\n",
       "    <tr>\n",
       "      <th>0</th>\n",
       "      <td>0</td>\n",
       "      <td>36</td>\n",
       "      <td>Travel_Frequently</td>\n",
       "      <td>599</td>\n",
       "      <td>Research &amp; Development</td>\n",
       "      <td>24</td>\n",
       "      <td>3</td>\n",
       "      <td>Medical</td>\n",
       "      <td>1</td>\n",
       "      <td>4</td>\n",
       "      <td>...</td>\n",
       "      <td>80</td>\n",
       "      <td>1</td>\n",
       "      <td>10</td>\n",
       "      <td>2</td>\n",
       "      <td>3</td>\n",
       "      <td>10</td>\n",
       "      <td>0</td>\n",
       "      <td>7</td>\n",
       "      <td>8</td>\n",
       "      <td>0</td>\n",
       "    </tr>\n",
       "    <tr>\n",
       "      <th>1</th>\n",
       "      <td>1</td>\n",
       "      <td>35</td>\n",
       "      <td>Travel_Rarely</td>\n",
       "      <td>921</td>\n",
       "      <td>Sales</td>\n",
       "      <td>8</td>\n",
       "      <td>3</td>\n",
       "      <td>Other</td>\n",
       "      <td>1</td>\n",
       "      <td>1</td>\n",
       "      <td>...</td>\n",
       "      <td>80</td>\n",
       "      <td>1</td>\n",
       "      <td>4</td>\n",
       "      <td>3</td>\n",
       "      <td>3</td>\n",
       "      <td>4</td>\n",
       "      <td>2</td>\n",
       "      <td>0</td>\n",
       "      <td>3</td>\n",
       "      <td>0</td>\n",
       "    </tr>\n",
       "    <tr>\n",
       "      <th>2</th>\n",
       "      <td>2</td>\n",
       "      <td>32</td>\n",
       "      <td>Travel_Rarely</td>\n",
       "      <td>718</td>\n",
       "      <td>Sales</td>\n",
       "      <td>26</td>\n",
       "      <td>3</td>\n",
       "      <td>Marketing</td>\n",
       "      <td>1</td>\n",
       "      <td>3</td>\n",
       "      <td>...</td>\n",
       "      <td>80</td>\n",
       "      <td>2</td>\n",
       "      <td>4</td>\n",
       "      <td>3</td>\n",
       "      <td>3</td>\n",
       "      <td>3</td>\n",
       "      <td>2</td>\n",
       "      <td>1</td>\n",
       "      <td>2</td>\n",
       "      <td>0</td>\n",
       "    </tr>\n",
       "    <tr>\n",
       "      <th>3</th>\n",
       "      <td>3</td>\n",
       "      <td>38</td>\n",
       "      <td>Travel_Rarely</td>\n",
       "      <td>1488</td>\n",
       "      <td>Research &amp; Development</td>\n",
       "      <td>2</td>\n",
       "      <td>3</td>\n",
       "      <td>Medical</td>\n",
       "      <td>1</td>\n",
       "      <td>3</td>\n",
       "      <td>...</td>\n",
       "      <td>80</td>\n",
       "      <td>0</td>\n",
       "      <td>15</td>\n",
       "      <td>1</td>\n",
       "      <td>1</td>\n",
       "      <td>6</td>\n",
       "      <td>0</td>\n",
       "      <td>0</td>\n",
       "      <td>2</td>\n",
       "      <td>0</td>\n",
       "    </tr>\n",
       "    <tr>\n",
       "      <th>4</th>\n",
       "      <td>4</td>\n",
       "      <td>50</td>\n",
       "      <td>Travel_Rarely</td>\n",
       "      <td>1017</td>\n",
       "      <td>Research &amp; Development</td>\n",
       "      <td>5</td>\n",
       "      <td>4</td>\n",
       "      <td>Medical</td>\n",
       "      <td>1</td>\n",
       "      <td>2</td>\n",
       "      <td>...</td>\n",
       "      <td>80</td>\n",
       "      <td>0</td>\n",
       "      <td>31</td>\n",
       "      <td>0</td>\n",
       "      <td>3</td>\n",
       "      <td>31</td>\n",
       "      <td>14</td>\n",
       "      <td>4</td>\n",
       "      <td>10</td>\n",
       "      <td>1</td>\n",
       "    </tr>\n",
       "    <tr>\n",
       "      <th>...</th>\n",
       "      <td>...</td>\n",
       "      <td>...</td>\n",
       "      <td>...</td>\n",
       "      <td>...</td>\n",
       "      <td>...</td>\n",
       "      <td>...</td>\n",
       "      <td>...</td>\n",
       "      <td>...</td>\n",
       "      <td>...</td>\n",
       "      <td>...</td>\n",
       "      <td>...</td>\n",
       "      <td>...</td>\n",
       "      <td>...</td>\n",
       "      <td>...</td>\n",
       "      <td>...</td>\n",
       "      <td>...</td>\n",
       "      <td>...</td>\n",
       "      <td>...</td>\n",
       "      <td>...</td>\n",
       "      <td>...</td>\n",
       "      <td>...</td>\n",
       "    </tr>\n",
       "    <tr>\n",
       "      <th>1672</th>\n",
       "      <td>1672</td>\n",
       "      <td>30</td>\n",
       "      <td>Travel_Rarely</td>\n",
       "      <td>945</td>\n",
       "      <td>Sales</td>\n",
       "      <td>1</td>\n",
       "      <td>3</td>\n",
       "      <td>Life Sciences</td>\n",
       "      <td>1</td>\n",
       "      <td>4</td>\n",
       "      <td>...</td>\n",
       "      <td>80</td>\n",
       "      <td>0</td>\n",
       "      <td>10</td>\n",
       "      <td>2</td>\n",
       "      <td>4</td>\n",
       "      <td>10</td>\n",
       "      <td>0</td>\n",
       "      <td>0</td>\n",
       "      <td>8</td>\n",
       "      <td>0</td>\n",
       "    </tr>\n",
       "    <tr>\n",
       "      <th>1673</th>\n",
       "      <td>1673</td>\n",
       "      <td>32</td>\n",
       "      <td>Travel_Rarely</td>\n",
       "      <td>1303</td>\n",
       "      <td>Research &amp; Development</td>\n",
       "      <td>2</td>\n",
       "      <td>3</td>\n",
       "      <td>Life Sciences</td>\n",
       "      <td>1</td>\n",
       "      <td>1</td>\n",
       "      <td>...</td>\n",
       "      <td>80</td>\n",
       "      <td>1</td>\n",
       "      <td>10</td>\n",
       "      <td>3</td>\n",
       "      <td>4</td>\n",
       "      <td>4</td>\n",
       "      <td>2</td>\n",
       "      <td>1</td>\n",
       "      <td>3</td>\n",
       "      <td>0</td>\n",
       "    </tr>\n",
       "    <tr>\n",
       "      <th>1674</th>\n",
       "      <td>1674</td>\n",
       "      <td>29</td>\n",
       "      <td>Travel_Frequently</td>\n",
       "      <td>1184</td>\n",
       "      <td>Human Resources</td>\n",
       "      <td>24</td>\n",
       "      <td>3</td>\n",
       "      <td>Human Resources</td>\n",
       "      <td>1</td>\n",
       "      <td>2</td>\n",
       "      <td>...</td>\n",
       "      <td>80</td>\n",
       "      <td>0</td>\n",
       "      <td>1</td>\n",
       "      <td>2</td>\n",
       "      <td>3</td>\n",
       "      <td>1</td>\n",
       "      <td>0</td>\n",
       "      <td>0</td>\n",
       "      <td>0</td>\n",
       "      <td>1</td>\n",
       "    </tr>\n",
       "    <tr>\n",
       "      <th>1675</th>\n",
       "      <td>1675</td>\n",
       "      <td>36</td>\n",
       "      <td>Travel_Rarely</td>\n",
       "      <td>441</td>\n",
       "      <td>Sales</td>\n",
       "      <td>9</td>\n",
       "      <td>2</td>\n",
       "      <td>Marketing</td>\n",
       "      <td>1</td>\n",
       "      <td>2</td>\n",
       "      <td>...</td>\n",
       "      <td>80</td>\n",
       "      <td>2</td>\n",
       "      <td>10</td>\n",
       "      <td>3</td>\n",
       "      <td>2</td>\n",
       "      <td>10</td>\n",
       "      <td>3</td>\n",
       "      <td>0</td>\n",
       "      <td>8</td>\n",
       "      <td>0</td>\n",
       "    </tr>\n",
       "    <tr>\n",
       "      <th>1676</th>\n",
       "      <td>1676</td>\n",
       "      <td>36</td>\n",
       "      <td>Travel_Rarely</td>\n",
       "      <td>1141</td>\n",
       "      <td>Research &amp; Development</td>\n",
       "      <td>20</td>\n",
       "      <td>3</td>\n",
       "      <td>Life Sciences</td>\n",
       "      <td>1</td>\n",
       "      <td>3</td>\n",
       "      <td>...</td>\n",
       "      <td>80</td>\n",
       "      <td>0</td>\n",
       "      <td>10</td>\n",
       "      <td>3</td>\n",
       "      <td>2</td>\n",
       "      <td>8</td>\n",
       "      <td>2</td>\n",
       "      <td>7</td>\n",
       "      <td>3</td>\n",
       "      <td>0</td>\n",
       "    </tr>\n",
       "  </tbody>\n",
       "</table>\n",
       "<p>1677 rows × 35 columns</p>\n",
       "</div>"
      ],
      "text/plain": [
       "        id  Age     BusinessTravel  DailyRate              Department  \\\n",
       "0        0   36  Travel_Frequently        599  Research & Development   \n",
       "1        1   35      Travel_Rarely        921                   Sales   \n",
       "2        2   32      Travel_Rarely        718                   Sales   \n",
       "3        3   38      Travel_Rarely       1488  Research & Development   \n",
       "4        4   50      Travel_Rarely       1017  Research & Development   \n",
       "...    ...  ...                ...        ...                     ...   \n",
       "1672  1672   30      Travel_Rarely        945                   Sales   \n",
       "1673  1673   32      Travel_Rarely       1303  Research & Development   \n",
       "1674  1674   29  Travel_Frequently       1184         Human Resources   \n",
       "1675  1675   36      Travel_Rarely        441                   Sales   \n",
       "1676  1676   36      Travel_Rarely       1141  Research & Development   \n",
       "\n",
       "      DistanceFromHome  Education   EducationField  EmployeeCount  \\\n",
       "0                   24          3          Medical              1   \n",
       "1                    8          3            Other              1   \n",
       "2                   26          3        Marketing              1   \n",
       "3                    2          3          Medical              1   \n",
       "4                    5          4          Medical              1   \n",
       "...                ...        ...              ...            ...   \n",
       "1672                 1          3    Life Sciences              1   \n",
       "1673                 2          3    Life Sciences              1   \n",
       "1674                24          3  Human Resources              1   \n",
       "1675                 9          2        Marketing              1   \n",
       "1676                20          3    Life Sciences              1   \n",
       "\n",
       "      EnvironmentSatisfaction  ... StandardHours  StockOptionLevel  \\\n",
       "0                           4  ...            80                 1   \n",
       "1                           1  ...            80                 1   \n",
       "2                           3  ...            80                 2   \n",
       "3                           3  ...            80                 0   \n",
       "4                           2  ...            80                 0   \n",
       "...                       ...  ...           ...               ...   \n",
       "1672                        4  ...            80                 0   \n",
       "1673                        1  ...            80                 1   \n",
       "1674                        2  ...            80                 0   \n",
       "1675                        2  ...            80                 2   \n",
       "1676                        3  ...            80                 0   \n",
       "\n",
       "      TotalWorkingYears  TrainingTimesLastYear WorkLifeBalance  \\\n",
       "0                    10                      2               3   \n",
       "1                     4                      3               3   \n",
       "2                     4                      3               3   \n",
       "3                    15                      1               1   \n",
       "4                    31                      0               3   \n",
       "...                 ...                    ...             ...   \n",
       "1672                 10                      2               4   \n",
       "1673                 10                      3               4   \n",
       "1674                  1                      2               3   \n",
       "1675                 10                      3               2   \n",
       "1676                 10                      3               2   \n",
       "\n",
       "      YearsAtCompany YearsInCurrentRole  YearsSinceLastPromotion  \\\n",
       "0                 10                  0                        7   \n",
       "1                  4                  2                        0   \n",
       "2                  3                  2                        1   \n",
       "3                  6                  0                        0   \n",
       "4                 31                 14                        4   \n",
       "...              ...                ...                      ...   \n",
       "1672              10                  0                        0   \n",
       "1673               4                  2                        1   \n",
       "1674               1                  0                        0   \n",
       "1675              10                  3                        0   \n",
       "1676               8                  2                        7   \n",
       "\n",
       "      YearsWithCurrManager  Attrition  \n",
       "0                        8          0  \n",
       "1                        3          0  \n",
       "2                        2          0  \n",
       "3                        2          0  \n",
       "4                       10          1  \n",
       "...                    ...        ...  \n",
       "1672                     8          0  \n",
       "1673                     3          0  \n",
       "1674                     0          1  \n",
       "1675                     8          0  \n",
       "1676                     3          0  \n",
       "\n",
       "[1677 rows x 35 columns]"
      ]
     },
     "execution_count": 8,
     "metadata": {},
     "output_type": "execute_result"
    }
   ],
   "source": [
    "df = pd.read_csv('F:/train.csv')\n",
    "data = pd.DataFrame(df)\n",
    "data"
   ]
  },
  {
   "cell_type": "code",
   "execution_count": 9,
   "id": "c721e674",
   "metadata": {},
   "outputs": [
    {
     "data": {
      "text/plain": [
       "id                          0\n",
       "Age                         0\n",
       "BusinessTravel              0\n",
       "DailyRate                   0\n",
       "Department                  0\n",
       "DistanceFromHome            0\n",
       "Education                   0\n",
       "EducationField              0\n",
       "EmployeeCount               0\n",
       "EnvironmentSatisfaction     0\n",
       "Gender                      0\n",
       "HourlyRate                  0\n",
       "JobInvolvement              0\n",
       "JobLevel                    0\n",
       "JobRole                     0\n",
       "JobSatisfaction             0\n",
       "MaritalStatus               0\n",
       "MonthlyIncome               0\n",
       "MonthlyRate                 0\n",
       "NumCompaniesWorked          0\n",
       "Over18                      0\n",
       "OverTime                    0\n",
       "PercentSalaryHike           0\n",
       "PerformanceRating           0\n",
       "RelationshipSatisfaction    0\n",
       "StandardHours               0\n",
       "StockOptionLevel            0\n",
       "TotalWorkingYears           0\n",
       "TrainingTimesLastYear       0\n",
       "WorkLifeBalance             0\n",
       "YearsAtCompany              0\n",
       "YearsInCurrentRole          0\n",
       "YearsSinceLastPromotion     0\n",
       "YearsWithCurrManager        0\n",
       "Attrition                   0\n",
       "dtype: int64"
      ]
     },
     "execution_count": 9,
     "metadata": {},
     "output_type": "execute_result"
    }
   ],
   "source": [
    "data.isnull().sum()"
   ]
  },
  {
   "cell_type": "code",
   "execution_count": 10,
   "id": "6a9498ed",
   "metadata": {},
   "outputs": [
    {
     "name": "stdout",
     "output_type": "stream",
     "text": [
      "<class 'pandas.core.frame.DataFrame'>\n",
      "RangeIndex: 1677 entries, 0 to 1676\n",
      "Data columns (total 35 columns):\n",
      " #   Column                    Non-Null Count  Dtype \n",
      "---  ------                    --------------  ----- \n",
      " 0   id                        1677 non-null   int64 \n",
      " 1   Age                       1677 non-null   int64 \n",
      " 2   BusinessTravel            1677 non-null   object\n",
      " 3   DailyRate                 1677 non-null   int64 \n",
      " 4   Department                1677 non-null   object\n",
      " 5   DistanceFromHome          1677 non-null   int64 \n",
      " 6   Education                 1677 non-null   int64 \n",
      " 7   EducationField            1677 non-null   object\n",
      " 8   EmployeeCount             1677 non-null   int64 \n",
      " 9   EnvironmentSatisfaction   1677 non-null   int64 \n",
      " 10  Gender                    1677 non-null   object\n",
      " 11  HourlyRate                1677 non-null   int64 \n",
      " 12  JobInvolvement            1677 non-null   int64 \n",
      " 13  JobLevel                  1677 non-null   int64 \n",
      " 14  JobRole                   1677 non-null   object\n",
      " 15  JobSatisfaction           1677 non-null   int64 \n",
      " 16  MaritalStatus             1677 non-null   object\n",
      " 17  MonthlyIncome             1677 non-null   int64 \n",
      " 18  MonthlyRate               1677 non-null   int64 \n",
      " 19  NumCompaniesWorked        1677 non-null   int64 \n",
      " 20  Over18                    1677 non-null   object\n",
      " 21  OverTime                  1677 non-null   object\n",
      " 22  PercentSalaryHike         1677 non-null   int64 \n",
      " 23  PerformanceRating         1677 non-null   int64 \n",
      " 24  RelationshipSatisfaction  1677 non-null   int64 \n",
      " 25  StandardHours             1677 non-null   int64 \n",
      " 26  StockOptionLevel          1677 non-null   int64 \n",
      " 27  TotalWorkingYears         1677 non-null   int64 \n",
      " 28  TrainingTimesLastYear     1677 non-null   int64 \n",
      " 29  WorkLifeBalance           1677 non-null   int64 \n",
      " 30  YearsAtCompany            1677 non-null   int64 \n",
      " 31  YearsInCurrentRole        1677 non-null   int64 \n",
      " 32  YearsSinceLastPromotion   1677 non-null   int64 \n",
      " 33  YearsWithCurrManager      1677 non-null   int64 \n",
      " 34  Attrition                 1677 non-null   int64 \n",
      "dtypes: int64(27), object(8)\n",
      "memory usage: 458.7+ KB\n"
     ]
    }
   ],
   "source": [
    "data.info()"
   ]
  },
  {
   "cell_type": "code",
   "execution_count": 11,
   "id": "aa8844bc",
   "metadata": {},
   "outputs": [
    {
     "data": {
      "text/html": [
       "<div>\n",
       "<style scoped>\n",
       "    .dataframe tbody tr th:only-of-type {\n",
       "        vertical-align: middle;\n",
       "    }\n",
       "\n",
       "    .dataframe tbody tr th {\n",
       "        vertical-align: top;\n",
       "    }\n",
       "\n",
       "    .dataframe thead th {\n",
       "        text-align: right;\n",
       "    }\n",
       "</style>\n",
       "<table border=\"1\" class=\"dataframe\">\n",
       "  <thead>\n",
       "    <tr style=\"text-align: right;\">\n",
       "      <th></th>\n",
       "      <th>id</th>\n",
       "      <th>Age</th>\n",
       "      <th>DailyRate</th>\n",
       "      <th>DistanceFromHome</th>\n",
       "      <th>Education</th>\n",
       "      <th>EmployeeCount</th>\n",
       "      <th>EnvironmentSatisfaction</th>\n",
       "      <th>HourlyRate</th>\n",
       "      <th>JobInvolvement</th>\n",
       "      <th>JobLevel</th>\n",
       "      <th>...</th>\n",
       "      <th>StandardHours</th>\n",
       "      <th>StockOptionLevel</th>\n",
       "      <th>TotalWorkingYears</th>\n",
       "      <th>TrainingTimesLastYear</th>\n",
       "      <th>WorkLifeBalance</th>\n",
       "      <th>YearsAtCompany</th>\n",
       "      <th>YearsInCurrentRole</th>\n",
       "      <th>YearsSinceLastPromotion</th>\n",
       "      <th>YearsWithCurrManager</th>\n",
       "      <th>Attrition</th>\n",
       "    </tr>\n",
       "  </thead>\n",
       "  <tbody>\n",
       "    <tr>\n",
       "      <th>count</th>\n",
       "      <td>1677.000000</td>\n",
       "      <td>1677.000000</td>\n",
       "      <td>1677.000000</td>\n",
       "      <td>1677.000000</td>\n",
       "      <td>1677.000000</td>\n",
       "      <td>1677.0</td>\n",
       "      <td>1677.000000</td>\n",
       "      <td>1677.000000</td>\n",
       "      <td>1677.000000</td>\n",
       "      <td>1677.000000</td>\n",
       "      <td>...</td>\n",
       "      <td>1677.0</td>\n",
       "      <td>1677.000000</td>\n",
       "      <td>1677.000000</td>\n",
       "      <td>1677.000000</td>\n",
       "      <td>1677.000000</td>\n",
       "      <td>1677.000000</td>\n",
       "      <td>1677.000000</td>\n",
       "      <td>1677.000000</td>\n",
       "      <td>1677.000000</td>\n",
       "      <td>1677.000000</td>\n",
       "    </tr>\n",
       "    <tr>\n",
       "      <th>mean</th>\n",
       "      <td>838.000000</td>\n",
       "      <td>36.036971</td>\n",
       "      <td>892.749553</td>\n",
       "      <td>8.683959</td>\n",
       "      <td>2.937984</td>\n",
       "      <td>1.0</td>\n",
       "      <td>2.757901</td>\n",
       "      <td>67.798450</td>\n",
       "      <td>2.782349</td>\n",
       "      <td>1.998807</td>\n",
       "      <td>...</td>\n",
       "      <td>80.0</td>\n",
       "      <td>0.721527</td>\n",
       "      <td>10.709600</td>\n",
       "      <td>2.732856</td>\n",
       "      <td>2.769827</td>\n",
       "      <td>6.806798</td>\n",
       "      <td>4.144305</td>\n",
       "      <td>1.978533</td>\n",
       "      <td>4.186643</td>\n",
       "      <td>0.119261</td>\n",
       "    </tr>\n",
       "    <tr>\n",
       "      <th>std</th>\n",
       "      <td>484.252517</td>\n",
       "      <td>8.507112</td>\n",
       "      <td>374.496259</td>\n",
       "      <td>7.826143</td>\n",
       "      <td>1.039078</td>\n",
       "      <td>0.0</td>\n",
       "      <td>1.086835</td>\n",
       "      <td>19.435928</td>\n",
       "      <td>0.650664</td>\n",
       "      <td>1.083065</td>\n",
       "      <td>...</td>\n",
       "      <td>0.0</td>\n",
       "      <td>0.771259</td>\n",
       "      <td>7.255135</td>\n",
       "      <td>1.145271</td>\n",
       "      <td>0.647721</td>\n",
       "      <td>5.883282</td>\n",
       "      <td>3.583398</td>\n",
       "      <td>3.045716</td>\n",
       "      <td>3.576189</td>\n",
       "      <td>0.324192</td>\n",
       "    </tr>\n",
       "    <tr>\n",
       "      <th>min</th>\n",
       "      <td>0.000000</td>\n",
       "      <td>18.000000</td>\n",
       "      <td>107.000000</td>\n",
       "      <td>1.000000</td>\n",
       "      <td>1.000000</td>\n",
       "      <td>1.0</td>\n",
       "      <td>1.000000</td>\n",
       "      <td>30.000000</td>\n",
       "      <td>1.000000</td>\n",
       "      <td>1.000000</td>\n",
       "      <td>...</td>\n",
       "      <td>80.0</td>\n",
       "      <td>0.000000</td>\n",
       "      <td>0.000000</td>\n",
       "      <td>0.000000</td>\n",
       "      <td>1.000000</td>\n",
       "      <td>0.000000</td>\n",
       "      <td>0.000000</td>\n",
       "      <td>0.000000</td>\n",
       "      <td>0.000000</td>\n",
       "      <td>0.000000</td>\n",
       "    </tr>\n",
       "    <tr>\n",
       "      <th>25%</th>\n",
       "      <td>419.000000</td>\n",
       "      <td>30.000000</td>\n",
       "      <td>589.000000</td>\n",
       "      <td>2.000000</td>\n",
       "      <td>2.000000</td>\n",
       "      <td>1.0</td>\n",
       "      <td>2.000000</td>\n",
       "      <td>51.000000</td>\n",
       "      <td>2.000000</td>\n",
       "      <td>1.000000</td>\n",
       "      <td>...</td>\n",
       "      <td>80.0</td>\n",
       "      <td>0.000000</td>\n",
       "      <td>6.000000</td>\n",
       "      <td>2.000000</td>\n",
       "      <td>2.000000</td>\n",
       "      <td>3.000000</td>\n",
       "      <td>2.000000</td>\n",
       "      <td>0.000000</td>\n",
       "      <td>2.000000</td>\n",
       "      <td>0.000000</td>\n",
       "    </tr>\n",
       "    <tr>\n",
       "      <th>50%</th>\n",
       "      <td>838.000000</td>\n",
       "      <td>35.000000</td>\n",
       "      <td>890.000000</td>\n",
       "      <td>7.000000</td>\n",
       "      <td>3.000000</td>\n",
       "      <td>1.0</td>\n",
       "      <td>3.000000</td>\n",
       "      <td>69.000000</td>\n",
       "      <td>3.000000</td>\n",
       "      <td>2.000000</td>\n",
       "      <td>...</td>\n",
       "      <td>80.0</td>\n",
       "      <td>1.000000</td>\n",
       "      <td>9.000000</td>\n",
       "      <td>3.000000</td>\n",
       "      <td>3.000000</td>\n",
       "      <td>5.000000</td>\n",
       "      <td>3.000000</td>\n",
       "      <td>1.000000</td>\n",
       "      <td>3.000000</td>\n",
       "      <td>0.000000</td>\n",
       "    </tr>\n",
       "    <tr>\n",
       "      <th>75%</th>\n",
       "      <td>1257.000000</td>\n",
       "      <td>41.000000</td>\n",
       "      <td>1223.000000</td>\n",
       "      <td>12.000000</td>\n",
       "      <td>4.000000</td>\n",
       "      <td>1.0</td>\n",
       "      <td>4.000000</td>\n",
       "      <td>84.000000</td>\n",
       "      <td>3.000000</td>\n",
       "      <td>2.000000</td>\n",
       "      <td>...</td>\n",
       "      <td>80.0</td>\n",
       "      <td>1.000000</td>\n",
       "      <td>14.000000</td>\n",
       "      <td>3.000000</td>\n",
       "      <td>3.000000</td>\n",
       "      <td>9.000000</td>\n",
       "      <td>7.000000</td>\n",
       "      <td>2.000000</td>\n",
       "      <td>7.000000</td>\n",
       "      <td>0.000000</td>\n",
       "    </tr>\n",
       "    <tr>\n",
       "      <th>max</th>\n",
       "      <td>1676.000000</td>\n",
       "      <td>60.000000</td>\n",
       "      <td>3921.000000</td>\n",
       "      <td>29.000000</td>\n",
       "      <td>15.000000</td>\n",
       "      <td>1.0</td>\n",
       "      <td>4.000000</td>\n",
       "      <td>100.000000</td>\n",
       "      <td>4.000000</td>\n",
       "      <td>7.000000</td>\n",
       "      <td>...</td>\n",
       "      <td>80.0</td>\n",
       "      <td>3.000000</td>\n",
       "      <td>41.000000</td>\n",
       "      <td>6.000000</td>\n",
       "      <td>4.000000</td>\n",
       "      <td>41.000000</td>\n",
       "      <td>18.000000</td>\n",
       "      <td>15.000000</td>\n",
       "      <td>17.000000</td>\n",
       "      <td>1.000000</td>\n",
       "    </tr>\n",
       "  </tbody>\n",
       "</table>\n",
       "<p>8 rows × 27 columns</p>\n",
       "</div>"
      ],
      "text/plain": [
       "                id          Age    DailyRate  DistanceFromHome    Education  \\\n",
       "count  1677.000000  1677.000000  1677.000000       1677.000000  1677.000000   \n",
       "mean    838.000000    36.036971   892.749553          8.683959     2.937984   \n",
       "std     484.252517     8.507112   374.496259          7.826143     1.039078   \n",
       "min       0.000000    18.000000   107.000000          1.000000     1.000000   \n",
       "25%     419.000000    30.000000   589.000000          2.000000     2.000000   \n",
       "50%     838.000000    35.000000   890.000000          7.000000     3.000000   \n",
       "75%    1257.000000    41.000000  1223.000000         12.000000     4.000000   \n",
       "max    1676.000000    60.000000  3921.000000         29.000000    15.000000   \n",
       "\n",
       "       EmployeeCount  EnvironmentSatisfaction   HourlyRate  JobInvolvement  \\\n",
       "count         1677.0              1677.000000  1677.000000     1677.000000   \n",
       "mean             1.0                 2.757901    67.798450        2.782349   \n",
       "std              0.0                 1.086835    19.435928        0.650664   \n",
       "min              1.0                 1.000000    30.000000        1.000000   \n",
       "25%              1.0                 2.000000    51.000000        2.000000   \n",
       "50%              1.0                 3.000000    69.000000        3.000000   \n",
       "75%              1.0                 4.000000    84.000000        3.000000   \n",
       "max              1.0                 4.000000   100.000000        4.000000   \n",
       "\n",
       "          JobLevel  ...  StandardHours  StockOptionLevel  TotalWorkingYears  \\\n",
       "count  1677.000000  ...         1677.0       1677.000000        1677.000000   \n",
       "mean      1.998807  ...           80.0          0.721527          10.709600   \n",
       "std       1.083065  ...            0.0          0.771259           7.255135   \n",
       "min       1.000000  ...           80.0          0.000000           0.000000   \n",
       "25%       1.000000  ...           80.0          0.000000           6.000000   \n",
       "50%       2.000000  ...           80.0          1.000000           9.000000   \n",
       "75%       2.000000  ...           80.0          1.000000          14.000000   \n",
       "max       7.000000  ...           80.0          3.000000          41.000000   \n",
       "\n",
       "       TrainingTimesLastYear  WorkLifeBalance  YearsAtCompany  \\\n",
       "count            1677.000000      1677.000000     1677.000000   \n",
       "mean                2.732856         2.769827        6.806798   \n",
       "std                 1.145271         0.647721        5.883282   \n",
       "min                 0.000000         1.000000        0.000000   \n",
       "25%                 2.000000         2.000000        3.000000   \n",
       "50%                 3.000000         3.000000        5.000000   \n",
       "75%                 3.000000         3.000000        9.000000   \n",
       "max                 6.000000         4.000000       41.000000   \n",
       "\n",
       "       YearsInCurrentRole  YearsSinceLastPromotion  YearsWithCurrManager  \\\n",
       "count         1677.000000              1677.000000           1677.000000   \n",
       "mean             4.144305                 1.978533              4.186643   \n",
       "std              3.583398                 3.045716              3.576189   \n",
       "min              0.000000                 0.000000              0.000000   \n",
       "25%              2.000000                 0.000000              2.000000   \n",
       "50%              3.000000                 1.000000              3.000000   \n",
       "75%              7.000000                 2.000000              7.000000   \n",
       "max             18.000000                15.000000             17.000000   \n",
       "\n",
       "         Attrition  \n",
       "count  1677.000000  \n",
       "mean      0.119261  \n",
       "std       0.324192  \n",
       "min       0.000000  \n",
       "25%       0.000000  \n",
       "50%       0.000000  \n",
       "75%       0.000000  \n",
       "max       1.000000  \n",
       "\n",
       "[8 rows x 27 columns]"
      ]
     },
     "execution_count": 11,
     "metadata": {},
     "output_type": "execute_result"
    }
   ],
   "source": [
    "data.describe()"
   ]
  },
  {
   "cell_type": "code",
   "execution_count": 12,
   "id": "3b26a574",
   "metadata": {},
   "outputs": [
    {
     "data": {
      "text/plain": [
       "BusinessTravel\n",
       "Non-Travel            126\n",
       "Travel_Frequently     261\n",
       "Travel_Rarely        1290\n",
       "Name: BusinessTravel, dtype: int64"
      ]
     },
     "execution_count": 12,
     "metadata": {},
     "output_type": "execute_result"
    }
   ],
   "source": [
    "BusinessTravel = data.groupby('BusinessTravel')['BusinessTravel'].count()\n",
    "BusinessTravel"
   ]
  },
  {
   "cell_type": "code",
   "execution_count": 13,
   "id": "b15eee8f",
   "metadata": {},
   "outputs": [
    {
     "data": {
      "text/plain": [
       "<matplotlib.legend.Legend at 0x1e5389576a0>"
      ]
     },
     "execution_count": 13,
     "metadata": {},
     "output_type": "execute_result"
    },
    {
     "data": {
      "image/png": "[encoded data removed]",
      "text/plain": [
       "<Figure size 640x480 with 1 Axes>"
      ]
     },
     "metadata": {},
     "output_type": "display_data"
    }
   ],
   "source": [
    "BusinessTravel.plot(kind = 'bar', alpha = 0.7)\n",
    "plt.legend(loc = 'upper right')"
   ]
  },
  {
   "cell_type": "code",
   "execution_count": 14,
   "id": "d8084a35",
   "metadata": {},
   "outputs": [
    {
     "data": {
      "text/plain": [
       "Department\n",
       "Human Resources             39\n",
       "Research & Development    1167\n",
       "Sales                      471\n",
       "Name: Department, dtype: int64"
      ]
     },
     "execution_count": 14,
     "metadata": {},
     "output_type": "execute_result"
    }
   ],
   "source": [
    "Department = data.groupby('Department')['Department'].count()\n",
    "Department"
   ]
  },
  {
   "cell_type": "code",
   "execution_count": 15,
   "id": "109ec5f7",
   "metadata": {},
   "outputs": [
    {
     "data": {
      "text/plain": [
       "<matplotlib.legend.Legend at 0x1e532bb7cd0>"
      ]
     },
     "execution_count": 15,
     "metadata": {},
     "output_type": "execute_result"
    },
    {
     "data": {
      "image/png": "[encoded data removed]",
      "text/plain": [
       "<Figure size 640x480 with 1 Axes>"
      ]
     },
     "metadata": {},
     "output_type": "display_data"
    }
   ],
   "source": [
    "Department.plot(kind = 'bar', alpha = 0.7)\n",
    "plt.legend(loc = 'upper right')"
   ]
  },
  {
   "cell_type": "code",
   "execution_count": 16,
   "id": "feb2e33f",
   "metadata": {},
   "outputs": [
    {
     "data": {
      "text/plain": [
       "EducationField\n",
       "Human Resources      13\n",
       "Life Sciences       775\n",
       "Marketing           152\n",
       "Medical             549\n",
       "Other                82\n",
       "Technical Degree    106\n",
       "Name: EducationField, dtype: int64"
      ]
     },
     "execution_count": 16,
     "metadata": {},
     "output_type": "execute_result"
    }
   ],
   "source": [
    "EducationField = data.groupby('EducationField')['EducationField'].count()\n",
    "EducationField"
   ]
  },
  {
   "cell_type": "code",
   "execution_count": 17,
   "id": "b5a1b469",
   "metadata": {},
   "outputs": [
    {
     "data": {
      "text/plain": [
       "<matplotlib.legend.Legend at 0x1e5391551f0>"
      ]
     },
     "execution_count": 17,
     "metadata": {},
     "output_type": "execute_result"
    },
    {
     "data": {
      "image/png": "[encoded data removed]",
      "text/plain": [
       "<Figure size 640x480 with 1 Axes>"
      ]
     },
     "metadata": {},
     "output_type": "display_data"
    }
   ],
   "source": [
    "EducationField.plot(alpha = 0.7, kind = 'bar')\n",
    "plt.legend(loc = 'upper right')"
   ]
  },
  {
   "cell_type": "code",
   "execution_count": 18,
   "id": "cd8e1da2",
   "metadata": {},
   "outputs": [
    {
     "data": {
      "text/plain": [
       "Gender\n",
       "Female     613\n",
       "Male      1064\n",
       "Name: Gender, dtype: int64"
      ]
     },
     "execution_count": 18,
     "metadata": {},
     "output_type": "execute_result"
    }
   ],
   "source": [
    "Gender = data.groupby('Gender')['Gender'].count()\n",
    "Gender"
   ]
  },
  {
   "cell_type": "code",
   "execution_count": 19,
   "id": "7d4be2f9",
   "metadata": {},
   "outputs": [
    {
     "data": {
      "text/plain": [
       "<matplotlib.legend.Legend at 0x1e5391ed910>"
      ]
     },
     "execution_count": 19,
     "metadata": {},
     "output_type": "execute_result"
    },
    {
     "data": {
      "image/png": "[encoded data removed]",
      "text/plain": [
       "<Figure size 640x480 with 1 Axes>"
      ]
     },
     "metadata": {},
     "output_type": "display_data"
    }
   ],
   "source": [
    "color = ['orange', 'purple']\n",
    "Gender.plot(alpha = 0.7, kind = 'bar', color = color)\n",
    "plt.legend(loc = 'upper right')"
   ]
  },
  {
   "cell_type": "code",
   "execution_count": 20,
   "id": "9eb6eb29",
   "metadata": {},
   "outputs": [
    {
     "data": {
      "text/plain": [
       "JobRole\n",
       "Healthcare Representative    155\n",
       "Human Resources               34\n",
       "Laboratory Technician        334\n",
       "Manager                      111\n",
       "Manufacturing Director       196\n",
       "Research Director             71\n",
       "Research Scientist           344\n",
       "Sales Executive              355\n",
       "Sales Representative          77\n",
       "Name: JobRole, dtype: int64"
      ]
     },
     "execution_count": 20,
     "metadata": {},
     "output_type": "execute_result"
    }
   ],
   "source": [
    "JobRole = data.groupby('JobRole')['JobRole'].count()\n",
    "JobRole"
   ]
  },
  {
   "cell_type": "code",
   "execution_count": 21,
   "id": "981ae178",
   "metadata": {},
   "outputs": [
    {
     "data": {
      "text/plain": [
       "<matplotlib.legend.Legend at 0x1e539215670>"
      ]
     },
     "execution_count": 21,
     "metadata": {},
     "output_type": "execute_result"
    },
    {
     "data": {
      "image/png": "[encoded data removed]",
      "text/plain": [
       "<Figure size 640x480 with 1 Axes>"
      ]
     },
     "metadata": {},
     "output_type": "display_data"
    }
   ],
   "source": [
    "JobRole.plot(alpha = 0.7, kind = 'bar')\n",
    "plt.legend(loc = 'upper right')"
   ]
  },
  {
   "cell_type": "code",
   "execution_count": 22,
   "id": "8c30531d",
   "metadata": {},
   "outputs": [
    {
     "data": {
      "text/plain": [
       "MaritalStatus\n",
       "Divorced    327\n",
       "Married     773\n",
       "Single      577\n",
       "Name: MaritalStatus, dtype: int64"
      ]
     },
     "execution_count": 22,
     "metadata": {},
     "output_type": "execute_result"
    }
   ],
   "source": [
    "MaritalStatus = data.groupby('MaritalStatus')['MaritalStatus'].count()\n",
    "MaritalStatus"
   ]
  },
  {
   "cell_type": "code",
   "execution_count": 23,
   "id": "db9f8b50",
   "metadata": {},
   "outputs": [
    {
     "data": {
      "text/plain": [
       "<matplotlib.legend.Legend at 0x1e53944c1c0>"
      ]
     },
     "execution_count": 23,
     "metadata": {},
     "output_type": "execute_result"
    },
    {
     "data": {
      "image/png": "[encoded data removed]",
      "text/plain": [
       "<Figure size 640x480 with 1 Axes>"
      ]
     },
     "metadata": {},
     "output_type": "display_data"
    }
   ],
   "source": [
    "MaritalStatus.plot(alpha=0.7, kind = 'bar')\n",
    "plt.legend(loc='upper right')"
   ]
  },
  {
   "cell_type": "code",
   "execution_count": 24,
   "id": "c3221a19",
   "metadata": {},
   "outputs": [
    {
     "data": {
      "text/plain": [
       "OverTime\n",
       "No     1277\n",
       "Yes     400\n",
       "Name: OverTime, dtype: int64"
      ]
     },
     "execution_count": 24,
     "metadata": {},
     "output_type": "execute_result"
    }
   ],
   "source": [
    "OverTime = data.groupby('OverTime')['OverTime'].count()\n",
    "OverTime"
   ]
  },
  {
   "cell_type": "code",
   "execution_count": 25,
   "id": "813ea4c1",
   "metadata": {},
   "outputs": [
    {
     "data": {
      "text/plain": [
       "<matplotlib.legend.Legend at 0x1e5394512b0>"
      ]
     },
     "execution_count": 25,
     "metadata": {},
     "output_type": "execute_result"
    },
    {
     "data": {
      "image/png": "[encoded data removed]",
      "text/plain": [
       "<Figure size 640x480 with 1 Axes>"
      ]
     },
     "metadata": {},
     "output_type": "display_data"
    }
   ],
   "source": [
    "color = ['orange', 'purple']\n",
    "OverTime.plot(alpha = 0.7, kind = 'bar', color = color)\n",
    "plt.legend(loc = 'upper right')"
   ]
  },
  {
   "cell_type": "code",
   "execution_count": 26,
   "id": "6662884a",
   "metadata": {},
   "outputs": [],
   "source": [
    "Age_DailyRate = data.groupby('Age')['DailyRate'].sum()"
   ]
  },
  {
   "cell_type": "code",
   "execution_count": 27,
   "id": "f87d9298",
   "metadata": {},
   "outputs": [
    {
     "data": {
      "text/plain": [
       "<AxesSubplot:xlabel='Age'>"
      ]
     },
     "execution_count": 27,
     "metadata": {},
     "output_type": "execute_result"
    },
    {
     "data": {
      "image/png": "[encoded data removed]",
      "text/plain": [
       "<Figure size 2000x1000 with 1 Axes>"
      ]
     },
     "metadata": {},
     "output_type": "display_data"
    }
   ],
   "source": [
    "Age_DailyRate.plot(kind = 'bar', alpha = 0.7, figsize = (20, 10))"
   ]
  },
  {
   "cell_type": "code",
   "execution_count": 28,
   "id": "578ae188",
   "metadata": {},
   "outputs": [
    {
     "name": "stdout",
     "output_type": "stream",
     "text": [
      "        id  Age     BusinessTravel  DailyRate              Department  \\\n",
      "0        0   36  Travel_Frequently        599  Research & Development   \n",
      "1        1   35      Travel_Rarely        921                   Sales   \n",
      "2        2   32      Travel_Rarely        718                   Sales   \n",
      "3        3   38      Travel_Rarely       1488  Research & Development   \n",
      "4        4   50      Travel_Rarely       1017  Research & Development   \n",
      "...    ...  ...                ...        ...                     ...   \n",
      "1672  1672   30      Travel_Rarely        945                   Sales   \n",
      "1673  1673   32      Travel_Rarely       1303  Research & Development   \n",
      "1674  1674   29  Travel_Frequently       1184         Human Resources   \n",
      "1675  1675   36      Travel_Rarely        441                   Sales   \n",
      "1676  1676   36      Travel_Rarely       1141  Research & Development   \n",
      "\n",
      "      DistanceFromHome  Education   EducationField  EmployeeCount  \\\n",
      "0                   24          3          Medical              1   \n",
      "1                    8          3            Other              1   \n",
      "2                   26          3        Marketing              1   \n",
      "3                    2          3          Medical              1   \n",
      "4                    5          4          Medical              1   \n",
      "...                ...        ...              ...            ...   \n",
      "1672                 1          3    Life Sciences              1   \n",
      "1673                 2          3    Life Sciences              1   \n",
      "1674                24          3  Human Resources              1   \n",
      "1675                 9          2        Marketing              1   \n",
      "1676                20          3    Life Sciences              1   \n",
      "\n",
      "      EnvironmentSatisfaction  ... StandardHours  StockOptionLevel  \\\n",
      "0                           4  ...            80                 1   \n",
      "1                           1  ...            80                 1   \n",
      "2                           3  ...            80                 2   \n",
      "3                           3  ...            80                 0   \n",
      "4                           2  ...            80                 0   \n",
      "...                       ...  ...           ...               ...   \n",
      "1672                        4  ...            80                 0   \n",
      "1673                        1  ...            80                 1   \n",
      "1674                        2  ...            80                 0   \n",
      "1675                        2  ...            80                 2   \n",
      "1676                        3  ...            80                 0   \n",
      "\n",
      "      TotalWorkingYears  TrainingTimesLastYear WorkLifeBalance  \\\n",
      "0                    10                      2               3   \n",
      "1                     4                      3               3   \n",
      "2                     4                      3               3   \n",
      "3                    15                      1               1   \n",
      "4                    31                      0               3   \n",
      "...                 ...                    ...             ...   \n",
      "1672                 10                      2               4   \n",
      "1673                 10                      3               4   \n",
      "1674                  1                      2               3   \n",
      "1675                 10                      3               2   \n",
      "1676                 10                      3               2   \n",
      "\n",
      "      YearsAtCompany YearsInCurrentRole  YearsSinceLastPromotion  \\\n",
      "0                 10                  0                        7   \n",
      "1                  4                  2                        0   \n",
      "2                  3                  2                        1   \n",
      "3                  6                  0                        0   \n",
      "4                 31                 14                        4   \n",
      "...              ...                ...                      ...   \n",
      "1672              10                  0                        0   \n",
      "1673               4                  2                        1   \n",
      "1674               1                  0                        0   \n",
      "1675              10                  3                        0   \n",
      "1676               8                  2                        7   \n",
      "\n",
      "      YearsWithCurrManager  Attrition  \n",
      "0                        8          0  \n",
      "1                        3          0  \n",
      "2                        2          0  \n",
      "3                        2          0  \n",
      "4                       10          1  \n",
      "...                    ...        ...  \n",
      "1672                     8          0  \n",
      "1673                     3          0  \n",
      "1674                     0          1  \n",
      "1675                     8          0  \n",
      "1676                     3          0  \n",
      "\n",
      "[1677 rows x 35 columns]\n"
     ]
    }
   ],
   "source": [
    "print(data)"
   ]
  },
  {
   "cell_type": "code",
   "execution_count": 30,
   "id": "750d2597",
   "metadata": {},
   "outputs": [
    {
     "data": {
      "text/html": [
       "<div>\n",
       "<style scoped>\n",
       "    .dataframe tbody tr th:only-of-type {\n",
       "        vertical-align: middle;\n",
       "    }\n",
       "\n",
       "    .dataframe tbody tr th {\n",
       "        vertical-align: top;\n",
       "    }\n",
       "\n",
       "    .dataframe thead th {\n",
       "        text-align: right;\n",
       "    }\n",
       "</style>\n",
       "<table border=\"1\" class=\"dataframe\">\n",
       "  <thead>\n",
       "    <tr style=\"text-align: right;\">\n",
       "      <th></th>\n",
       "      <th>BusinessTravel</th>\n",
       "      <th>Department</th>\n",
       "      <th>EducationField</th>\n",
       "      <th>Gender</th>\n",
       "      <th>JobRole</th>\n",
       "      <th>MaritalStatus</th>\n",
       "      <th>Over18</th>\n",
       "      <th>OverTime</th>\n",
       "    </tr>\n",
       "  </thead>\n",
       "  <tbody>\n",
       "    <tr>\n",
       "      <th>count</th>\n",
       "      <td>1677</td>\n",
       "      <td>1677</td>\n",
       "      <td>1677</td>\n",
       "      <td>1677</td>\n",
       "      <td>1677</td>\n",
       "      <td>1677</td>\n",
       "      <td>1677</td>\n",
       "      <td>1677</td>\n",
       "    </tr>\n",
       "    <tr>\n",
       "      <th>unique</th>\n",
       "      <td>3</td>\n",
       "      <td>3</td>\n",
       "      <td>6</td>\n",
       "      <td>2</td>\n",
       "      <td>9</td>\n",
       "      <td>3</td>\n",
       "      <td>1</td>\n",
       "      <td>2</td>\n",
       "    </tr>\n",
       "    <tr>\n",
       "      <th>top</th>\n",
       "      <td>Travel_Rarely</td>\n",
       "      <td>Research &amp; Development</td>\n",
       "      <td>Life Sciences</td>\n",
       "      <td>Male</td>\n",
       "      <td>Sales Executive</td>\n",
       "      <td>Married</td>\n",
       "      <td>Y</td>\n",
       "      <td>No</td>\n",
       "    </tr>\n",
       "    <tr>\n",
       "      <th>freq</th>\n",
       "      <td>1290</td>\n",
       "      <td>1167</td>\n",
       "      <td>775</td>\n",
       "      <td>1064</td>\n",
       "      <td>355</td>\n",
       "      <td>773</td>\n",
       "      <td>1677</td>\n",
       "      <td>1277</td>\n",
       "    </tr>\n",
       "  </tbody>\n",
       "</table>\n",
       "</div>"
      ],
      "text/plain": [
       "       BusinessTravel              Department EducationField Gender  \\\n",
       "count            1677                    1677           1677   1677   \n",
       "unique              3                       3              6      2   \n",
       "top     Travel_Rarely  Research & Development  Life Sciences   Male   \n",
       "freq             1290                    1167            775   1064   \n",
       "\n",
       "                JobRole MaritalStatus Over18 OverTime  \n",
       "count              1677          1677   1677     1677  \n",
       "unique                9             3      1        2  \n",
       "top     Sales Executive       Married      Y       No  \n",
       "freq                355           773   1677     1277  "
      ]
     },
     "metadata": {},
     "output_type": "display_data"
    },
    {
     "data": {
      "text/html": [
       "<div>\n",
       "<style scoped>\n",
       "    .dataframe tbody tr th:only-of-type {\n",
       "        vertical-align: middle;\n",
       "    }\n",
       "\n",
       "    .dataframe tbody tr th {\n",
       "        vertical-align: top;\n",
       "    }\n",
       "\n",
       "    .dataframe thead th {\n",
       "        text-align: right;\n",
       "    }\n",
       "</style>\n",
       "<table border=\"1\" class=\"dataframe\">\n",
       "  <thead>\n",
       "    <tr style=\"text-align: right;\">\n",
       "      <th></th>\n",
       "      <th>BusinessTravel</th>\n",
       "      <th>Department</th>\n",
       "      <th>EducationField</th>\n",
       "      <th>Gender</th>\n",
       "      <th>JobRole</th>\n",
       "      <th>MaritalStatus</th>\n",
       "      <th>Over18</th>\n",
       "      <th>OverTime</th>\n",
       "    </tr>\n",
       "  </thead>\n",
       "  <tbody>\n",
       "    <tr>\n",
       "      <th>count</th>\n",
       "      <td>1119</td>\n",
       "      <td>1119</td>\n",
       "      <td>1119</td>\n",
       "      <td>1119</td>\n",
       "      <td>1119</td>\n",
       "      <td>1119</td>\n",
       "      <td>1119</td>\n",
       "      <td>1119</td>\n",
       "    </tr>\n",
       "    <tr>\n",
       "      <th>unique</th>\n",
       "      <td>3</td>\n",
       "      <td>3</td>\n",
       "      <td>6</td>\n",
       "      <td>2</td>\n",
       "      <td>9</td>\n",
       "      <td>3</td>\n",
       "      <td>1</td>\n",
       "      <td>2</td>\n",
       "    </tr>\n",
       "    <tr>\n",
       "      <th>top</th>\n",
       "      <td>Travel_Rarely</td>\n",
       "      <td>Research &amp; Development</td>\n",
       "      <td>Life Sciences</td>\n",
       "      <td>Male</td>\n",
       "      <td>Sales Executive</td>\n",
       "      <td>Married</td>\n",
       "      <td>Y</td>\n",
       "      <td>No</td>\n",
       "    </tr>\n",
       "    <tr>\n",
       "      <th>freq</th>\n",
       "      <td>799</td>\n",
       "      <td>777</td>\n",
       "      <td>519</td>\n",
       "      <td>690</td>\n",
       "      <td>240</td>\n",
       "      <td>524</td>\n",
       "      <td>1119</td>\n",
       "      <td>852</td>\n",
       "    </tr>\n",
       "  </tbody>\n",
       "</table>\n",
       "</div>"
      ],
      "text/plain": [
       "       BusinessTravel              Department EducationField Gender  \\\n",
       "count            1119                    1119           1119   1119   \n",
       "unique              3                       3              6      2   \n",
       "top     Travel_Rarely  Research & Development  Life Sciences   Male   \n",
       "freq              799                     777            519    690   \n",
       "\n",
       "                JobRole MaritalStatus Over18 OverTime  \n",
       "count              1119          1119   1119     1119  \n",
       "unique                9             3      1        2  \n",
       "top     Sales Executive       Married      Y       No  \n",
       "freq                240           524   1119      852  "
      ]
     },
     "metadata": {},
     "output_type": "display_data"
    }
   ],
   "source": [
    "display(df.describe(include='object'))\n",
    "display(df_test.describe(include='object'))"
   ]
  },
  {
   "cell_type": "code",
   "execution_count": 33,
   "id": "f4aaa7bd",
   "metadata": {},
   "outputs": [],
   "source": [
    "y_pred = np.zeros(len(df_test))\n",
    "scores = []\n",
    "\n",
    "X = df.drop(['id'], axis = 1)\n",
    "y = df.Attrition\n",
    "\n",
    "kf = model_selection.StratifiedKFold(n_splits=10, random_state = 42, shuffle = True)\n",
    "for idx in kf.split(X,y):\n",
    "    \n",
    "    train_idx, valid_idx = idx[0], idx[1]\n",
    "    X_train, y_train = X.loc[train_idx], y.loc[train_idx]\n",
    "    X_valid, y_valid = X.loc[valid_idx], y.loc[valid_idx]\n",
    "    \n",
    "    X_valid = X_valid[useful_features]\n",
    "    X_test = df_test.copy()\n",
    "\n",
    "    for col in categorical_cols:\n",
    "   \n",
    "        feat = X_train.groupby(col)['Attrition'].agg('mean')\n",
    "        feat = feat.to_dict()\n",
    "        \n",
    "        X_train.loc[:, col] = X_train[col].map(feat)\n",
    "        X_valid.loc[:, col] = X_valid[col].map(feat)\n",
    "        X_test.loc[:, col] = X_test[col].map(feat)\n",
    "    \n",
    "    X_train = X_train[useful_features]\n",
    "\n",
    "    model = RandomForestClassifier(n_estimators=400, criterion = 'entropy', max_depth= 10)\n",
    "\n",
    "    model.fit(X_train, y_train)\n",
    "        \n",
    "    final_preds = model.predict_proba(X_valid)[:,1]\n",
    "    fold_score = metrics.roc_auc_score(y_valid, final_preds)\n",
    "    scores.append(fold_score)\n",
    "    y_pred += model.predict_proba(X_test)[:,1] / kf.n_splits \n",
    "    "
   ]
  },
  {
   "cell_type": "code",
   "execution_count": 34,
   "id": "071672df",
   "metadata": {},
   "outputs": [
    {
     "name": "stdout",
     "output_type": "stream",
     "text": [
      "[0.7972972972972973, 0.7787162162162162, 0.8506756756756757, 0.893581081081081, 0.7652027027027026, 0.7658783783783785, 0.839527027027027, 0.8183673469387756, 0.9380952380952381, 0.8003401360544218]\n"
     ]
    }
   ],
   "source": [
    "print(scores)"
   ]
  },
  {
   "cell_type": "code",
   "execution_count": 35,
   "id": "ee3e0609",
   "metadata": {},
   "outputs": [
    {
     "name": "stdout",
     "output_type": "stream",
     "text": [
      "        id  Age     BusinessTravel  DailyRate              Department  \\\n",
      "0        0   36  Travel_Frequently        599  Research & Development   \n",
      "1        1   35      Travel_Rarely        921                   Sales   \n",
      "2        2   32      Travel_Rarely        718                   Sales   \n",
      "3        3   38      Travel_Rarely       1488  Research & Development   \n",
      "4        4   50      Travel_Rarely       1017  Research & Development   \n",
      "...    ...  ...                ...        ...                     ...   \n",
      "1672  1672   30      Travel_Rarely        945                   Sales   \n",
      "1673  1673   32      Travel_Rarely       1303  Research & Development   \n",
      "1674  1674   29  Travel_Frequently       1184         Human Resources   \n",
      "1675  1675   36      Travel_Rarely        441                   Sales   \n",
      "1676  1676   36      Travel_Rarely       1141  Research & Development   \n",
      "\n",
      "      DistanceFromHome  Education   EducationField  EmployeeCount  \\\n",
      "0                   24          3          Medical              1   \n",
      "1                    8          3            Other              1   \n",
      "2                   26          3        Marketing              1   \n",
      "3                    2          3          Medical              1   \n",
      "4                    5          4          Medical              1   \n",
      "...                ...        ...              ...            ...   \n",
      "1672                 1          3    Life Sciences              1   \n",
      "1673                 2          3    Life Sciences              1   \n",
      "1674                24          3  Human Resources              1   \n",
      "1675                 9          2        Marketing              1   \n",
      "1676                20          3    Life Sciences              1   \n",
      "\n",
      "      EnvironmentSatisfaction  ... StandardHours  StockOptionLevel  \\\n",
      "0                           4  ...            80                 1   \n",
      "1                           1  ...            80                 1   \n",
      "2                           3  ...            80                 2   \n",
      "3                           3  ...            80                 0   \n",
      "4                           2  ...            80                 0   \n",
      "...                       ...  ...           ...               ...   \n",
      "1672                        4  ...            80                 0   \n",
      "1673                        1  ...            80                 1   \n",
      "1674                        2  ...            80                 0   \n",
      "1675                        2  ...            80                 2   \n",
      "1676                        3  ...            80                 0   \n",
      "\n",
      "      TotalWorkingYears  TrainingTimesLastYear WorkLifeBalance  \\\n",
      "0                    10                      2               3   \n",
      "1                     4                      3               3   \n",
      "2                     4                      3               3   \n",
      "3                    15                      1               1   \n",
      "4                    31                      0               3   \n",
      "...                 ...                    ...             ...   \n",
      "1672                 10                      2               4   \n",
      "1673                 10                      3               4   \n",
      "1674                  1                      2               3   \n",
      "1675                 10                      3               2   \n",
      "1676                 10                      3               2   \n",
      "\n",
      "      YearsAtCompany YearsInCurrentRole  YearsSinceLastPromotion  \\\n",
      "0                 10                  0                        7   \n",
      "1                  4                  2                        0   \n",
      "2                  3                  2                        1   \n",
      "3                  6                  0                        0   \n",
      "4                 31                 14                        4   \n",
      "...              ...                ...                      ...   \n",
      "1672              10                  0                        0   \n",
      "1673               4                  2                        1   \n",
      "1674               1                  0                        0   \n",
      "1675              10                  3                        0   \n",
      "1676               8                  2                        7   \n",
      "\n",
      "      YearsWithCurrManager  Attrition  \n",
      "0                        8          0  \n",
      "1                        3          0  \n",
      "2                        2          0  \n",
      "3                        2          0  \n",
      "4                       10          1  \n",
      "...                    ...        ...  \n",
      "1672                     8          0  \n",
      "1673                     3          0  \n",
      "1674                     0          1  \n",
      "1675                     8          0  \n",
      "1676                     3          0  \n",
      "\n",
      "[1677 rows x 35 columns]\n"
     ]
    }
   ],
   "source": [
    "print(data)"
   ]
  },
  {
   "cell_type": "code",
   "execution_count": 36,
   "id": "d81a700f",
   "metadata": {},
   "outputs": [
    {
     "name": "stdout",
     "output_type": "stream",
     "text": [
      "<class 'pandas.core.frame.DataFrame'>\n",
      "RangeIndex: 1677 entries, 0 to 1676\n",
      "Data columns (total 35 columns):\n",
      " #   Column                    Non-Null Count  Dtype \n",
      "---  ------                    --------------  ----- \n",
      " 0   id                        1677 non-null   int64 \n",
      " 1   Age                       1677 non-null   int64 \n",
      " 2   BusinessTravel            1677 non-null   object\n",
      " 3   DailyRate                 1677 non-null   int64 \n",
      " 4   Department                1677 non-null   object\n",
      " 5   DistanceFromHome          1677 non-null   int64 \n",
      " 6   Education                 1677 non-null   int64 \n",
      " 7   EducationField            1677 non-null   object\n",
      " 8   EmployeeCount             1677 non-null   int64 \n",
      " 9   EnvironmentSatisfaction   1677 non-null   int64 \n",
      " 10  Gender                    1677 non-null   object\n",
      " 11  HourlyRate                1677 non-null   int64 \n",
      " 12  JobInvolvement            1677 non-null   int64 \n",
      " 13  JobLevel                  1677 non-null   int64 \n",
      " 14  JobRole                   1677 non-null   object\n",
      " 15  JobSatisfaction           1677 non-null   int64 \n",
      " 16  MaritalStatus             1677 non-null   object\n",
      " 17  MonthlyIncome             1677 non-null   int64 \n",
      " 18  MonthlyRate               1677 non-null   int64 \n",
      " 19  NumCompaniesWorked        1677 non-null   int64 \n",
      " 20  Over18                    1677 non-null   object\n",
      " 21  OverTime                  1677 non-null   object\n",
      " 22  PercentSalaryHike         1677 non-null   int64 \n",
      " 23  PerformanceRating         1677 non-null   int64 \n",
      " 24  RelationshipSatisfaction  1677 non-null   int64 \n",
      " 25  StandardHours             1677 non-null   int64 \n",
      " 26  StockOptionLevel          1677 non-null   int64 \n",
      " 27  TotalWorkingYears         1677 non-null   int64 \n",
      " 28  TrainingTimesLastYear     1677 non-null   int64 \n",
      " 29  WorkLifeBalance           1677 non-null   int64 \n",
      " 30  YearsAtCompany            1677 non-null   int64 \n",
      " 31  YearsInCurrentRole        1677 non-null   int64 \n",
      " 32  YearsSinceLastPromotion   1677 non-null   int64 \n",
      " 33  YearsWithCurrManager      1677 non-null   int64 \n",
      " 34  Attrition                 1677 non-null   int64 \n",
      "dtypes: int64(27), object(8)\n",
      "memory usage: 458.7+ KB\n"
     ]
    }
   ],
   "source": [
    "data.info()"
   ]
  },
  {
   "cell_type": "code",
   "execution_count": 37,
   "id": "09c980be",
   "metadata": {},
   "outputs": [
    {
     "name": "stdout",
     "output_type": "stream",
     "text": [
      "[0.23898935 0.06006522 0.06012716 ... 0.02041604 0.03070095 0.026786  ]\n",
      "        id  Attrition\n",
      "0     1677   0.119261\n",
      "1     1678   0.119261\n",
      "2     1679   0.119261\n",
      "3     1680   0.119261\n",
      "4     1681   0.119261\n",
      "...    ...        ...\n",
      "1114  2791   0.119261\n",
      "1115  2792   0.119261\n",
      "1116  2793   0.119261\n",
      "1117  2794   0.119261\n",
      "1118  2795   0.119261\n",
      "\n",
      "[1119 rows x 2 columns]\n"
     ]
    }
   ],
   "source": [
    "print(y_pred)\n",
    "print(submission)"
   ]
  },
  {
   "cell_type": "code",
   "execution_count": 38,
   "id": "71f67cc9",
   "metadata": {},
   "outputs": [
    {
     "data": {
      "text/plain": [
       "0.9854304635761589"
      ]
     },
     "execution_count": 38,
     "metadata": {},
     "output_type": "execute_result"
    }
   ],
   "source": [
    "model.score(X_train, y_train)"
   ]
  },
  {
   "cell_type": "code",
   "execution_count": 39,
   "id": "ccdc0c42",
   "metadata": {},
   "outputs": [],
   "source": [
    "import pickle\n",
    "pickle.dump(model, open('EmployeeData_prediction.h5', 'wb'))"
   ]
  },
  {
   "cell_type": "code",
   "execution_count": 40,
   "id": "be31f806",
   "metadata": {},
   "outputs": [
    {
     "name": "stdout",
     "output_type": "stream",
     "text": [
      "Successfully Saved!\n"
     ]
    }
   ],
   "source": [
    "submission['Attrition'] = y_pred\n",
    "submission.to_csv('sample_submission.csv',index = False)\n",
    "print('Successfully Saved!')"
   ]
  },
  {
   "cell_type": "code",
   "execution_count": null,
   "id": "8d7039b4",
   "metadata": {},
   "outputs": [],
   "source": []
  },
  {
   "cell_type": "code",
   "execution_count": null,
   "id": "222932e2",
   "metadata": {},
   "outputs": [],
   "source": []
  }
 ],
 "metadata": {
  "kernelspec": {
   "display_name": "Python 3 (ipykernel)",
   "language": "python",
   "name": "python3"
  },
  "language_info": {
   "codemirror_mode": {
    "name": "ipython",
    "version": 3
   },
   "file_extension": ".py",
   "mimetype": "text/x-python",
   "name": "python",
   "nbconvert_exporter": "python",
   "pygments_lexer": "ipython3",
   "version": "3.9.13"
  }
 },
 "nbformat": 4,
 "nbformat_minor": 5
}
